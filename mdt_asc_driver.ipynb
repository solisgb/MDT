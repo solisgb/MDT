{
 "cells": [
  {
   "cell_type": "markdown",
   "metadata": {},
   "source": [
    "# Driver to mdt_asc"
   ]
  },
  {
   "cell_type": "raw",
   "metadata": {},
   "source": [
    "When you need to assig the z value to a set of point from one or more asc file, you can use a open gis as QGIS.\n",
    "But if the points are located in serveral files and each is heavy, gis programm can be a bit slow and you spend some time\n",
    "This script are lighter to run and yoo don't need to run a gis to get the results"
   ]
  },
  {
   "cell_type": "markdown",
   "metadata": {},
   "source": [
    "## Add module location to the path"
   ]
  },
  {
   "cell_type": "code",
   "execution_count": 4,
   "metadata": {},
   "outputs": [],
   "source": [
    "import sys\n",
    "sys.path.append(r'C:\\Users\\solis\\Documents\\DEV\\python3\\mdt\\asc2xy')\n",
    "import mdt_asc as mdt\n",
    "import littleLogging as logging"
   ]
  },
  {
   "cell_type": "markdown",
   "metadata": {},
   "source": [
    "## Data"
   ]
  },
  {
   "cell_type": "raw",
   "metadata": {},
   "source": [
    "    filepoints : str\n",
    "        csv file with the following structure\n",
    "        \"gid\",\"x\",\"y\"\n",
    "        gid1 (int or str), x1 (float), y1 (float)\n",
    "        ...\n",
    "        gidn, xn, yn\n",
    "    dtypes : Dictionary with 3 elements where gid can be 'int64','int32' or 'str' and x y 'float32' or 'float64'\n",
    "        {'gid': type, 'x': type, 'y': type}, examples:\n",
    "        dtypes = {'gid': 'int32', 'x': 'float32', 'y': 'float32'}\n",
    "        dtypes = {'gid': 'str', 'x': 'float32', 'y': 'float32'}\n",
    "        ...\n",
    "    dir_asc_files : str\n",
    "        directory where filenames are found\n",
    "    filenames : List(str)\n",
    "        list in wich each element is the name of a standar asc file\n",
    "    output_file : Path to a csv file with the results of computations\n",
    "    Returns\n",
    "    -------\n",
    "    dfp : pandas dataframe\n",
    "        dateframe with data and z values"
   ]
  },
  {
   "cell_type": "code",
   "execution_count": 3,
   "metadata": {},
   "outputs": [],
   "source": [
    "filepoints = r'E:\\IGME20\\20201215_aquifer\\_data\\JLGA_20210217\\CRCC\\Pozos_eia2017.csv'\n",
    "dtypes = {'gid': 'int32', 'x': 'float32', 'y': 'float32'}\n",
    "dir_asc_files = r'E:\\layers\\IGN\\MDT'\n",
    "filenames = ('PNOA_MDT05_ETRS89_HU30_0934_LID.asc',\n",
    "             'PNOA_MDT05_ETRS89_HU30_0935_LID.asc',\n",
    "             'PNOA_MDT05_ETRS89_HU30_0954_LID.asc',\n",
    "             'PNOA_MDT05_ETRS89_HU30_0955_LID.asc',\n",
    "             'PNOA_MDT05_ETRS89_HU30_0956_LID.asc',\n",
    "             'PNOA_MDT05_ETRS89_HU30_0977_LID.asc',\n",
    "             'PNOA_MDT05_ETRS89_HU30_0978_LID.asc')\n",
    "output_file = 'zpoints.csv'"
   ]
  },
  {
   "cell_type": "markdown",
   "metadata": {},
   "source": [
    "## Run the script"
   ]
  },
  {
   "cell_type": "code",
   "execution_count": 5,
   "metadata": {},
   "outputs": [
    {
     "name": "stdout",
     "output_type": "stream",
     "text": [
      "PNOA_MDT05_ETRS89_HU30_0934_LID.asc\n",
      "PNOA_MDT05_ETRS89_HU30_0935_LID.asc\n",
      "PNOA_MDT05_ETRS89_HU30_0954_LID.asc\n",
      "PNOA_MDT05_ETRS89_HU30_0955_LID.asc\n",
      "PNOA_MDT05_ETRS89_HU30_0956_LID.asc\n",
      "PNOA_MDT05_ETRS89_HU30_0977_LID.asc\n",
      "PNOA_MDT05_ETRS89_HU30_0978_LID.asc\n",
      "All points have been assigned\n",
      "output file E:\\IGME20\\20201215_aquifer\\_data\\JLGA_20210217\\CRCC\\zpoints.csv\n"
     ]
    }
   ],
   "source": [
    "df = mdt.get_z_drv(filepoints, dtypes, dir_asc_files, filenames, output_file)"
   ]
  },
  {
   "cell_type": "markdown",
   "metadata": {},
   "source": [
    "## Optionally, you can inspect the dataframe df, but results have been saved yet in the output_file  "
   ]
  },
  {
   "cell_type": "code",
   "execution_count": 8,
   "metadata": {},
   "outputs": [
    {
     "data": {
      "text/html": [
       "<div>\n",
       "<style scoped>\n",
       "    .dataframe tbody tr th:only-of-type {\n",
       "        vertical-align: middle;\n",
       "    }\n",
       "\n",
       "    .dataframe tbody tr th {\n",
       "        vertical-align: top;\n",
       "    }\n",
       "\n",
       "    .dataframe thead th {\n",
       "        text-align: right;\n",
       "    }\n",
       "</style>\n",
       "<table border=\"1\" class=\"dataframe\">\n",
       "  <thead>\n",
       "    <tr style=\"text-align: right;\">\n",
       "      <th></th>\n",
       "      <th>gid</th>\n",
       "      <th>x</th>\n",
       "      <th>y</th>\n",
       "      <th>z</th>\n",
       "      <th>file</th>\n",
       "    </tr>\n",
       "  </thead>\n",
       "  <tbody>\n",
       "    <tr>\n",
       "      <th>0</th>\n",
       "      <td>1</td>\n",
       "      <td>659106.0</td>\n",
       "      <td>4174112.0</td>\n",
       "      <td>147.502</td>\n",
       "      <td>PNOA_MDT05_ETRS89_HU30_0954_LID.asc</td>\n",
       "    </tr>\n",
       "    <tr>\n",
       "      <th>1</th>\n",
       "      <td>2</td>\n",
       "      <td>682212.0</td>\n",
       "      <td>4171578.0</td>\n",
       "      <td>23.615</td>\n",
       "      <td>PNOA_MDT05_ETRS89_HU30_0955_LID.asc</td>\n",
       "    </tr>\n",
       "    <tr>\n",
       "      <th>2</th>\n",
       "      <td>3</td>\n",
       "      <td>684360.0</td>\n",
       "      <td>4171404.0</td>\n",
       "      <td>23.336</td>\n",
       "      <td>PNOA_MDT05_ETRS89_HU30_0955_LID.asc</td>\n",
       "    </tr>\n",
       "    <tr>\n",
       "      <th>3</th>\n",
       "      <td>4</td>\n",
       "      <td>673134.0</td>\n",
       "      <td>4176125.0</td>\n",
       "      <td>66.315</td>\n",
       "      <td>PNOA_MDT05_ETRS89_HU30_0955_LID.asc</td>\n",
       "    </tr>\n",
       "    <tr>\n",
       "      <th>4</th>\n",
       "      <td>5</td>\n",
       "      <td>684567.0</td>\n",
       "      <td>4182211.0</td>\n",
       "      <td>35.008</td>\n",
       "      <td>PNOA_MDT05_ETRS89_HU30_0955_LID.asc</td>\n",
       "    </tr>\n",
       "  </tbody>\n",
       "</table>\n",
       "</div>"
      ],
      "text/plain": [
       "   gid         x          y        z                                 file\n",
       "0    1  659106.0  4174112.0  147.502  PNOA_MDT05_ETRS89_HU30_0954_LID.asc\n",
       "1    2  682212.0  4171578.0   23.615  PNOA_MDT05_ETRS89_HU30_0955_LID.asc\n",
       "2    3  684360.0  4171404.0   23.336  PNOA_MDT05_ETRS89_HU30_0955_LID.asc\n",
       "3    4  673134.0  4176125.0   66.315  PNOA_MDT05_ETRS89_HU30_0955_LID.asc\n",
       "4    5  684567.0  4182211.0   35.008  PNOA_MDT05_ETRS89_HU30_0955_LID.asc"
      ]
     },
     "execution_count": 8,
     "metadata": {},
     "output_type": "execute_result"
    }
   ],
   "source": [
    "df.head()"
   ]
  },
  {
   "cell_type": "code",
   "execution_count": 9,
   "metadata": {},
   "outputs": [
    {
     "data": {
      "text/html": [
       "<div>\n",
       "<style scoped>\n",
       "    .dataframe tbody tr th:only-of-type {\n",
       "        vertical-align: middle;\n",
       "    }\n",
       "\n",
       "    .dataframe tbody tr th {\n",
       "        vertical-align: top;\n",
       "    }\n",
       "\n",
       "    .dataframe thead th {\n",
       "        text-align: right;\n",
       "    }\n",
       "</style>\n",
       "<table border=\"1\" class=\"dataframe\">\n",
       "  <thead>\n",
       "    <tr style=\"text-align: right;\">\n",
       "      <th></th>\n",
       "      <th>gid</th>\n",
       "      <th>x</th>\n",
       "      <th>y</th>\n",
       "      <th>z</th>\n",
       "      <th>file</th>\n",
       "    </tr>\n",
       "  </thead>\n",
       "  <tbody>\n",
       "    <tr>\n",
       "      <th>247</th>\n",
       "      <td>249</td>\n",
       "      <td>680064.0</td>\n",
       "      <td>4181107.0</td>\n",
       "      <td>48.613</td>\n",
       "      <td>PNOA_MDT05_ETRS89_HU30_0955_LID.asc</td>\n",
       "    </tr>\n",
       "    <tr>\n",
       "      <th>248</th>\n",
       "      <td>250</td>\n",
       "      <td>683259.0</td>\n",
       "      <td>4193725.0</td>\n",
       "      <td>151.706</td>\n",
       "      <td>PNOA_MDT05_ETRS89_HU30_0934_LID.asc</td>\n",
       "    </tr>\n",
       "    <tr>\n",
       "      <th>249</th>\n",
       "      <td>251</td>\n",
       "      <td>676532.0</td>\n",
       "      <td>4176964.0</td>\n",
       "      <td>51.731</td>\n",
       "      <td>PNOA_MDT05_ETRS89_HU30_0955_LID.asc</td>\n",
       "    </tr>\n",
       "    <tr>\n",
       "      <th>250</th>\n",
       "      <td>252</td>\n",
       "      <td>677272.0</td>\n",
       "      <td>4171609.0</td>\n",
       "      <td>41.631</td>\n",
       "      <td>PNOA_MDT05_ETRS89_HU30_0955_LID.asc</td>\n",
       "    </tr>\n",
       "    <tr>\n",
       "      <th>251</th>\n",
       "      <td>253</td>\n",
       "      <td>676489.0</td>\n",
       "      <td>4174759.0</td>\n",
       "      <td>48.991</td>\n",
       "      <td>PNOA_MDT05_ETRS89_HU30_0955_LID.asc</td>\n",
       "    </tr>\n",
       "  </tbody>\n",
       "</table>\n",
       "</div>"
      ],
      "text/plain": [
       "     gid         x          y        z                                 file\n",
       "247  249  680064.0  4181107.0   48.613  PNOA_MDT05_ETRS89_HU30_0955_LID.asc\n",
       "248  250  683259.0  4193725.0  151.706  PNOA_MDT05_ETRS89_HU30_0934_LID.asc\n",
       "249  251  676532.0  4176964.0   51.731  PNOA_MDT05_ETRS89_HU30_0955_LID.asc\n",
       "250  252  677272.0  4171609.0   41.631  PNOA_MDT05_ETRS89_HU30_0955_LID.asc\n",
       "251  253  676489.0  4174759.0   48.991  PNOA_MDT05_ETRS89_HU30_0955_LID.asc"
      ]
     },
     "execution_count": 9,
     "metadata": {},
     "output_type": "execute_result"
    }
   ],
   "source": [
    "df.tail()"
   ]
  },
  {
   "cell_type": "markdown",
   "metadata": {},
   "source": [
    "## By running the line below you can inspect several detail about the computacions:"
   ]
  },
  {
   "cell_type": "code",
   "execution_count": 10,
   "metadata": {},
   "outputs": [],
   "source": [
    "logging.dump()"
   ]
  },
  {
   "cell_type": "raw",
   "metadata": {},
   "source": [
    "now you can open app.txt"
   ]
  }
 ],
 "metadata": {
  "kernelspec": {
   "display_name": "Python 3",
   "language": "python",
   "name": "python3"
  },
  "language_info": {
   "codemirror_mode": {
    "name": "ipython",
    "version": 3
   },
   "file_extension": ".py",
   "mimetype": "text/x-python",
   "name": "python",
   "nbconvert_exporter": "python",
   "pygments_lexer": "ipython3",
   "version": "3.8.5"
  }
 },
 "nbformat": 4,
 "nbformat_minor": 4
}
