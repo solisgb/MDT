{
 "cells": [
  {
   "cell_type": "code",
   "execution_count": 1,
   "metadata": {},
   "outputs": [],
   "source": [
    "from math import ceil, floor, modf"
   ]
  },
  {
   "cell_type": "code",
   "execution_count": 7,
   "metadata": {},
   "outputs": [],
   "source": [
    "cellsize = 5\n",
    "delta = cellsize / 2\n",
    "delta1 = 0.1\n",
    "tiny = 0.1\n",
    "xmin = 659080\n",
    "xmax = 688890\n",
    "ymin = 4188820\n",
    "ymax = 4208040"
   ]
  },
  {
   "cell_type": "code",
   "execution_count": 8,
   "metadata": {},
   "outputs": [
    {
     "name": "stdout",
     "output_type": "stream",
     "text": [
      "nrows = 3845, ncols = 5963\n"
     ]
    }
   ],
   "source": [
    "ncols = round((xmax - xmin)/cellsize) + 1\n",
    "nrows = round((ymax - ymin)/cellsize) + 1\n",
    "print(f'nrows = {nrows}, ncols = {ncols}')"
   ]
  },
  {
   "cell_type": "code",
   "execution_count": 50,
   "metadata": {},
   "outputs": [
    {
     "name": "stdout",
     "output_type": "stream",
     "text": [
      "x1 = 688892, y1 = 4208042\n",
      "xi = 3844.979995, xj = 5962.979997\n",
      "i = 3844, j = 0\n",
      "i = 0, j = 5962\n"
     ]
    }
   ],
   "source": [
    "x1 = xmax + 2 #xmin - 2 # 659078 , 4188822\n",
    "y1 = ymax + 2 # 4208042 # ymin - 2 # 4188818\n",
    "print(f'x1 = {x1}, y1 = {y1}')\n",
    "\n",
    "if x1 >= xmax: #+ delta:\n",
    "    x1 = xmax - tiny\n",
    "if y1 >= ymax: #+ delta:\n",
    "    y1 = ymax - tiny\n",
    "if x1 <= xmin: #- delta:\n",
    "    x1 = xmin # + tiny\n",
    "if y1 <= ymin: #- delta:\n",
    "    y1 = ymin # + tiny\n",
    "    \n",
    "xmin1 = xmin #- delta\n",
    "xmax1 = xmax #+ delta\n",
    "ymin1 = ymin #- delta\n",
    "ymax1 = ymax #+ delta\n",
    "\n",
    "xi = ((y1 - ymin) * nrows) / (ymax - ymin) \n",
    "xj = ((x1 - xmin) * ncols) / (xmax - xmin)\n",
    "print(f'xi = {xi:f}, xj = {xj:f}')\n",
    "print(f'i = {int(i):d}, j = {int(j):d}')\n",
    "i = nrows - int(xi) - 1\n",
    "j = int(xj)\n",
    "print(f'i = {i:d}, j = {j:d}')"
   ]
  },
  {
   "cell_type": "code",
   "execution_count": 5,
   "metadata": {},
   "outputs": [
    {
     "data": {
      "text/plain": [
       "[[659082, 4188822],\n",
       " [659078, 4188818],\n",
       " [659082.5, 4188822.5],\n",
       " [659082.5, 4188822.5],\n",
       " [659082.6, 4188822.6],\n",
       " [659077.4, 4188817.4],\n",
       " [659082, 4208042],\n",
       " [659078, 4208038],\n",
       " [659082.5, 4208042.5],\n",
       " [659082.5, 4208042.5],\n",
       " [659082.6, 4208042.6],\n",
       " [659077.4, 4208037.4],\n",
       " [688892, 4208042],\n",
       " [688888, 4208038],\n",
       " [688892.5, 4208042.5],\n",
       " [688892.5, 4208042.5],\n",
       " [688892.6, 4208042.6],\n",
       " [688887.4, 4208037.4],\n",
       " [688892, 4188822],\n",
       " [688888, 4188818],\n",
       " [688892.5, 4188822.5],\n",
       " [688892.5, 4188822.5],\n",
       " [688892.6, 4188822.6],\n",
       " [688887.4, 4188817.4]]"
      ]
     },
     "execution_count": 5,
     "metadata": {},
     "output_type": "execute_result"
    }
   ],
   "source": [
    "# genero un tst general\n",
    "p = ((xmin, ymin), (xmin, ymax), (xmax, ymax), (xmax, ymin))\n",
    "delta = (2,-2, 2.5, 2.5, 2.6, -2.6)\n",
    "points = []\n",
    "for p1 in p:\n",
    "    for d1 in delta:\n",
    "        points.append([p1[0] + d1, p1[1] + d1])\n",
    "points    "
   ]
  },
  {
   "cell_type": "code",
   "execution_count": 5,
   "metadata": {},
   "outputs": [],
   "source": [
    "# tests\n",
    "import numpy as np"
   ]
  },
  {
   "cell_type": "code",
   "execution_count": 7,
   "metadata": {},
   "outputs": [
    {
     "data": {
      "text/plain": [
       "array([[2, 3],\n",
       "       [5, 6]])"
      ]
     },
     "execution_count": 7,
     "metadata": {},
     "output_type": "execute_result"
    }
   ],
   "source": [
    "a = np.array([[1, 2, 3], [4, 5, 6]])\n",
    "a[:, [1, 2]]"
   ]
  },
  {
   "cell_type": "code",
   "execution_count": 77,
   "metadata": {},
   "outputs": [
    {
     "name": "stdout",
     "output_type": "stream",
     "text": [
      "0.5, 5, 4\n"
     ]
    }
   ],
   "source": [
    "x = 4.5\n",
    "print(f'{x%1}, {ceil(x)}, {floor(x)}')"
   ]
  },
  {
   "cell_type": "code",
   "execution_count": 16,
   "metadata": {},
   "outputs": [],
   "source": [
    "x0 = 659080; y0 = 4188820"
   ]
  },
  {
   "cell_type": "code",
   "execution_count": 29,
   "metadata": {},
   "outputs": [],
   "source": [
    "delta = [(-2, -2), (-2, 2), (2, -2), (2, 2)]"
   ]
  },
  {
   "cell_type": "code",
   "execution_count": 30,
   "metadata": {},
   "outputs": [],
   "source": [
    "xy = [[x0 + delta1[0], y0 + delta1[1]] for delta1 in delta]"
   ]
  },
  {
   "cell_type": "code",
   "execution_count": 3,
   "metadata": {},
   "outputs": [],
   "source": [
    "import numpy as np"
   ]
  },
  {
   "cell_type": "code",
   "execution_count": 10,
   "metadata": {},
   "outputs": [
    {
     "name": "stdout",
     "output_type": "stream",
     "text": [
      "[[0 1 2]\n",
      " [3 4 5]\n",
      " [6 7 8]]\n"
     ]
    },
    {
     "data": {
      "text/plain": [
       "array([[1, 2],\n",
       "       [4, 5],\n",
       "       [7, 8]])"
      ]
     },
     "execution_count": 10,
     "metadata": {},
     "output_type": "execute_result"
    }
   ],
   "source": [
    "a = [i for i in range(9)]\n",
    "a = np.array(a)\n",
    "a = a.reshape((3,3))\n",
    "print(a)\n",
    "a[:, [1,2]]"
   ]
  }
 ],
 "metadata": {
  "kernelspec": {
   "display_name": "Python 3",
   "language": "python",
   "name": "python3"
  },
  "language_info": {
   "codemirror_mode": {
    "name": "ipython",
    "version": 3
   },
   "file_extension": ".py",
   "mimetype": "text/x-python",
   "name": "python",
   "nbconvert_exporter": "python",
   "pygments_lexer": "ipython3",
   "version": "3.8.5"
  }
 },
 "nbformat": 4,
 "nbformat_minor": 4
}
