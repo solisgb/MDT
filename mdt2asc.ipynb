{
 "cells": [
  {
   "cell_type": "code",
   "execution_count": 70,
   "metadata": {},
   "outputs": [],
   "source": [
    "from math import ceil, floor, modf"
   ]
  },
  {
   "cell_type": "code",
   "execution_count": 107,
   "metadata": {},
   "outputs": [],
   "source": [
    "cellsize = 5\n",
    "delta = cellsize / 2\n",
    "delta1 = 0.1\n",
    "tiny = 0.1\n",
    "xmin = 659080\n",
    "xmax = 688890\n",
    "ymin = 4188820\n",
    "ymax = 4208040"
   ]
  },
  {
   "cell_type": "code",
   "execution_count": 64,
   "metadata": {},
   "outputs": [
    {
     "name": "stdout",
     "output_type": "stream",
     "text": [
      "nrows = 3845, ncols = 5963\n"
     ]
    }
   ],
   "source": [
    "ncols = round((xmax - xmin)/cellsize) + 1\n",
    "nrows = round((ymax - ymin)/cellsize) + 1\n",
    "print(f'nrows = {nrows}, ncols = {ncols}')"
   ]
  },
  {
   "cell_type": "code",
   "execution_count": 116,
   "metadata": {},
   "outputs": [
    {
     "name": "stdout",
     "output_type": "stream",
     "text": [
      "x1 = 659078, y1 = 4188818\n",
      "xi = 0.100026, xj = 0.100017\n",
      "i = 3844, j = 0\n"
     ]
    }
   ],
   "source": [
    "x1 = xmin - 2 # 659078 \n",
    "y1 = ymin - 2 # 4188818\n",
    "print(f'x1 = {x1}, y1 = {y1}')\n",
    "\n",
    "if x1 >= xmax + delta:\n",
    "    x1 = xmax - tiny\n",
    "if y1 >= ymax + delta:\n",
    "    y1 = ymax - tiny\n",
    "if x1 <= xmin - delta:\n",
    "    x1 = xmin + tiny\n",
    "if y1 <= ymin - delta:\n",
    "    y1 = ymin + tiny\n",
    "    \n",
    "xmin1 = xmin - delta\n",
    "xmax1 = xmax + delta\n",
    "ymin1 = ymin - delta\n",
    "ymax1 = ymax + delta\n",
    "\n",
    "xi = ((y1 - ymin1) * nrows) / (ymax - ymin) \n",
    "xj = ((x1 - xmin1) * ncols) / (xmax - xmin)\n",
    "i = nrows - int(xi) -1\n",
    "j = int(xj)\n",
    "print(f'xi = {xi:f}, xj = {xj:f}')\n",
    "print(f'i = {i:d}, j = {j:d}')"
   ]
  },
  {
   "cell_type": "code",
   "execution_count": null,
   "metadata": {},
   "outputs": [],
   "source": [
    "jcell = x1/cellsize\n",
    "icell = y1/cellsize\n",
    "print(f'icell = {icell}, jcell = {jcell}')\n",
    "d_jcell, n_jcell = modf(jcell)\n",
    "d_icell, n_icell = modf(icell)\n",
    "print(f'n_icell = {n_icell}, d_icell = {d_icell}')\n",
    "print(f'n_jcell = {n_jcell}, d_jcell = {d_jcell}')\n",
    "\n",
    "if d_jcell <= 0.5:\n",
    "    nj = round(n_jcell)\n",
    "else:\n",
    "    nj = round(n_jcell + 1)\n",
    "\n",
    "if d_icell <= 0.5:\n",
    "    ni = round(n_icell)\n",
    "else:\n",
    "    ni = round(n_icell + 1)\n",
    "\n",
    "print(f'ni = {ni}, nj = {nj}')\n",
    "print(f'i = {nrows - ni}, j = {nj - 1}')"
   ]
  },
  {
   "cell_type": "code",
   "execution_count": 77,
   "metadata": {},
   "outputs": [
    {
     "name": "stdout",
     "output_type": "stream",
     "text": [
      "0.5, 5, 4\n"
     ]
    }
   ],
   "source": [
    "x = 4.5\n",
    "print(f'{x%1}, {ceil(x)}, {floor(x)}')"
   ]
  },
  {
   "cell_type": "code",
   "execution_count": 16,
   "metadata": {},
   "outputs": [],
   "source": [
    "x0 = 659080; y0 = 4188820"
   ]
  },
  {
   "cell_type": "code",
   "execution_count": 29,
   "metadata": {},
   "outputs": [],
   "source": [
    "delta = [(-2, -2), (-2, 2), (2, -2), (2, 2)]"
   ]
  },
  {
   "cell_type": "code",
   "execution_count": 30,
   "metadata": {},
   "outputs": [],
   "source": [
    "xy = [[x0 + delta1[0], y0 + delta1[1]] for delta1 in delta]"
   ]
  },
  {
   "cell_type": "code",
   "execution_count": 31,
   "metadata": {},
   "outputs": [
    {
     "data": {
      "text/plain": [
       "[[659078, 4188818], [659078, 4188822], [659082, 4188818], [659082, 4188822]]"
      ]
     },
     "execution_count": 31,
     "metadata": {},
     "output_type": "execute_result"
    }
   ],
   "source": [
    "xy"
   ]
  },
  {
   "cell_type": "code",
   "execution_count": null,
   "metadata": {},
   "outputs": [],
   "source": []
  }
 ],
 "metadata": {
  "kernelspec": {
   "display_name": "Python 3",
   "language": "python",
   "name": "python3"
  },
  "language_info": {
   "codemirror_mode": {
    "name": "ipython",
    "version": 3
   },
   "file_extension": ".py",
   "mimetype": "text/x-python",
   "name": "python",
   "nbconvert_exporter": "python",
   "pygments_lexer": "ipython3",
   "version": "3.8.5"
  }
 },
 "nbformat": 4,
 "nbformat_minor": 4
}
